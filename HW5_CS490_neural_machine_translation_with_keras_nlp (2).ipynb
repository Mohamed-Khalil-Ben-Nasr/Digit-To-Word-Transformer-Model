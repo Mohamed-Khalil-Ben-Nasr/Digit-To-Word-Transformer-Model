{
  "cells": [
    {
      "cell_type": "markdown",
      "metadata": {
        "id": "PZh-mu8ABBPw"
      },
      "source": [
        "# English-to-Spanish translation with KerasNLP\n",
        "\n",
        "**Author:** [Abheesht Sharma](https://github.com/abheesht17/)<br>\n",
        "**Date created:** 2022/05/26<br>\n",
        "**Last modified:** 2022/12/21<br>\n",
        "**Description:** Use KerasNLP to train a sequence-to-sequence Transformer model on the machine translation task."
      ]
    },
    {
      "cell_type": "markdown",
      "metadata": {
        "id": "SCZH2N-hBBP1"
      },
      "source": [
        "## Introduction\n",
        "\n",
        "KerasNLP provides building blocks for NLP (model layers, tokenizers, metrics, etc.) and\n",
        "makes it convenient to construct NLP pipelines.\n",
        "\n",
        "In this example, we'll use KerasNLP layers to build an encoder-decoder Transformer\n",
        "model, and train it on the English-to-Spanish machine translation task.\n",
        "\n",
        "This example is based on the\n",
        "[English-to-Spanish NMT\n",
        "example](https://keras.io/examples/nlp/neural_machine_translation_with_transformer/)\n",
        "by [fchollet](https://twitter.com/fchollet). The original example is more low-level\n",
        "and implements layers from scratch, whereas this example uses KerasNLP to show\n",
        "some more advanced approaches, such as subword tokenization and using metrics\n",
        "to compute the quality of generated translations.\n",
        "\n",
        "You'll learn how to:\n",
        "\n",
        "- Tokenize text using `keras_nlp.tokenizers.WordPieceTokenizer`.\n",
        "- Implement a sequence-to-sequence Transformer model using KerasNLP's\n",
        "`keras_nlp.layers.TransformerEncoder`, `keras_nlp.layers.TransformerDecoder` and\n",
        "`keras_nlp.layers.TokenAndPositionEmbedding` layers, and train it.\n",
        "- Use `keras_nlp.samplers` to generate translations of unseen input sentences\n",
        " using the top-p decoding strategy!\n",
        "\n",
        "Don't worry if you aren't familiar with KerasNLP. This tutorial will start with\n",
        "the basics. Let's dive right in!"
      ]
    },
    {
      "cell_type": "markdown",
      "metadata": {
        "id": "nUMfrkXBBBP2"
      },
      "source": [
        "## Setup\n",
        "\n",
        "Before we start implementing the pipeline, let's import all the libraries we need."
      ]
    },
    {
      "cell_type": "code",
      "execution_count": 1,
      "metadata": {
        "id": "0Iw8p3UyBBP3",
        "colab": {
          "base_uri": "https://localhost:8080/"
        },
        "outputId": "29f0ef90-60e1-4d31-f75f-6a077f9e812c"
      },
      "outputs": [
        {
          "output_type": "execute_result",
          "data": {
            "text/plain": [
              "['  Installing build dependencies ... \\x1b[?25l\\x1b[?25hdone',\n",
              " '  Getting requirements to build wheel ... \\x1b[?25l\\x1b[?25hdone',\n",
              " '  Preparing metadata (pyproject.toml) ... \\x1b[?25l\\x1b[?25hdone',\n",
              " '\\x1b[?25l     \\x1b[90m━━━━━━━━━━━━━━━━━━━━━━━━━━━━━━━━━━━━━━━━\\x1b[0m \\x1b[32m0.0/950.8 kB\\x1b[0m \\x1b[31m?\\x1b[0m eta \\x1b[36m-:--:--\\x1b[0m',\n",
              " '\\x1b[2K     \\x1b[91m━━\\x1b[0m\\x1b[91m╸\\x1b[0m\\x1b[90m━━━━━━━━━━━━━━━━━━━━━━━━━━━━━━━━━━━━━\\x1b[0m \\x1b[32m61.4/950.8 kB\\x1b[0m \\x1b[31m1.6 MB/s\\x1b[0m eta \\x1b[36m0:00:01\\x1b[0m',\n",
              " '\\x1b[2K     \\x1b[91m━━━━━━━━━━━━━\\x1b[0m\\x1b[90m╺\\x1b[0m\\x1b[90m━━━━━━━━━━━━━━━━━━━━━━━━━━\\x1b[0m \\x1b[32m317.4/950.8 kB\\x1b[0m \\x1b[31m4.6 MB/s\\x1b[0m eta \\x1b[36m0:00:01\\x1b[0m',\n",
              " '\\x1b[2K     \\x1b[91m━━━━━━━━━━━━━━━━━━━━━━━━━━\\x1b[0m\\x1b[90m╺\\x1b[0m\\x1b[90m━━━━━━━━━━━━━\\x1b[0m \\x1b[32m624.6/950.8 kB\\x1b[0m \\x1b[31m5.9 MB/s\\x1b[0m eta \\x1b[36m0:00:01\\x1b[0m',\n",
              " '\\x1b[2K     \\x1b[91m━━━━━━━━━━━━━━━━━━━━━━━━━━━━━━━━━━━━━━━\\x1b[0m\\x1b[91m╸\\x1b[0m \\x1b[32m942.1/950.8 kB\\x1b[0m \\x1b[31m6.8 MB/s\\x1b[0m eta \\x1b[36m0:00:01\\x1b[0m',\n",
              " '\\x1b[2K     \\x1b[90m━━━━━━━━━━━━━━━━━━━━━━━━━━━━━━━━━━━━━━━━\\x1b[0m \\x1b[32m950.8/950.8 kB\\x1b[0m \\x1b[31m6.2 MB/s\\x1b[0m eta \\x1b[36m0:00:00\\x1b[0m',\n",
              " '\\x1b[?25h\\x1b[?25l     \\x1b[90m━━━━━━━━━━━━━━━━━━━━━━━━━━━━━━━━━━━━━━━━\\x1b[0m \\x1b[32m0.0/6.5 MB\\x1b[0m \\x1b[31m?\\x1b[0m eta \\x1b[36m-:--:--\\x1b[0m',\n",
              " '\\x1b[2K     \\x1b[91m━━\\x1b[0m\\x1b[90m╺\\x1b[0m\\x1b[90m━━━━━━━━━━━━━━━━━━━━━━━━━━━━━━━━━━━━━\\x1b[0m \\x1b[32m0.4/6.5 MB\\x1b[0m \\x1b[31m12.2 MB/s\\x1b[0m eta \\x1b[36m0:00:01\\x1b[0m',\n",
              " '\\x1b[2K     \\x1b[91m━━━━━\\x1b[0m\\x1b[90m╺\\x1b[0m\\x1b[90m━━━━━━━━━━━━━━━━━━━━━━━━━━━━━━━━━━\\x1b[0m \\x1b[32m0.9/6.5 MB\\x1b[0m \\x1b[31m12.9 MB/s\\x1b[0m eta \\x1b[36m0:00:01\\x1b[0m',\n",
              " '\\x1b[2K     \\x1b[91m━━━━━━━━\\x1b[0m\\x1b[90m╺\\x1b[0m\\x1b[90m━━━━━━━━━━━━━━━━━━━━━━━━━━━━━━━\\x1b[0m \\x1b[32m1.4/6.5 MB\\x1b[0m \\x1b[31m13.7 MB/s\\x1b[0m eta \\x1b[36m0:00:01\\x1b[0m',\n",
              " '\\x1b[2K     \\x1b[91m━━━━━━━━━━━━\\x1b[0m\\x1b[90m╺\\x1b[0m\\x1b[90m━━━━━━━━━━━━━━━━━━━━━━━━━━━\\x1b[0m \\x1b[32m2.0/6.5 MB\\x1b[0m \\x1b[31m14.5 MB/s\\x1b[0m eta \\x1b[36m0:00:01\\x1b[0m',\n",
              " '\\x1b[2K     \\x1b[91m━━━━━━━━━━━━━━━━━\\x1b[0m\\x1b[90m╺\\x1b[0m\\x1b[90m━━━━━━━━━━━━━━━━━━━━━━\\x1b[0m \\x1b[32m2.8/6.5 MB\\x1b[0m \\x1b[31m16.0 MB/s\\x1b[0m eta \\x1b[36m0:00:01\\x1b[0m',\n",
              " '\\x1b[2K     \\x1b[91m━━━━━━━━━━━━━━━━━━━━━━\\x1b[0m\\x1b[90m╺\\x1b[0m\\x1b[90m━━━━━━━━━━━━━━━━━\\x1b[0m \\x1b[32m3.6/6.5 MB\\x1b[0m \\x1b[31m17.4 MB/s\\x1b[0m eta \\x1b[36m0:00:01\\x1b[0m',\n",
              " '\\x1b[2K     \\x1b[91m━━━━━━━━━━━━━━━━━━━━━━━━━━━━\\x1b[0m\\x1b[91m╸\\x1b[0m\\x1b[90m━━━━━━━━━━━\\x1b[0m \\x1b[32m4.6/6.5 MB\\x1b[0m \\x1b[31m19.1 MB/s\\x1b[0m eta \\x1b[36m0:00:01\\x1b[0m',\n",
              " '\\x1b[2K     \\x1b[91m━━━━━━━━━━━━━━━━━━━━━━━━━━━━━━━━━━━\\x1b[0m\\x1b[91m╸\\x1b[0m\\x1b[90m━━━━\\x1b[0m \\x1b[32m5.8/6.5 MB\\x1b[0m \\x1b[31m20.8 MB/s\\x1b[0m eta \\x1b[36m0:00:01\\x1b[0m',\n",
              " '\\x1b[2K     \\x1b[91m━━━━━━━━━━━━━━━━━━━━━━━━━━━━━━━━━━━━━━━\\x1b[0m\\x1b[91m╸\\x1b[0m \\x1b[32m6.5/6.5 MB\\x1b[0m \\x1b[31m21.8 MB/s\\x1b[0m eta \\x1b[36m0:00:01\\x1b[0m',\n",
              " '\\x1b[2K     \\x1b[90m━━━━━━━━━━━━━━━━━━━━━━━━━━━━━━━━━━━━━━━━\\x1b[0m \\x1b[32m6.5/6.5 MB\\x1b[0m \\x1b[31m19.8 MB/s\\x1b[0m eta \\x1b[36m0:00:00\\x1b[0m',\n",
              " '\\x1b[?25h  Building wheel for keras-nlp (pyproject.toml) ... \\x1b[?25l\\x1b[?25hdone']"
            ]
          },
          "metadata": {},
          "execution_count": 1
        }
      ],
      "source": [
        "!!pip install -q rouge-score\n",
        "!!pip install -q git+https://github.com/keras-team/keras-nlp.git --upgrade"
      ]
    },
    {
      "cell_type": "code",
      "execution_count": 2,
      "metadata": {
        "id": "a1YZ5pV1BBP4",
        "colab": {
          "base_uri": "https://localhost:8080/"
        },
        "outputId": "9cd2a49f-8eda-459c-f16b-b59b6faa30b1"
      },
      "outputs": [
        {
          "output_type": "stream",
          "name": "stdout",
          "text": [
            "Using TensorFlow backend\n"
          ]
        }
      ],
      "source": [
        "import keras_nlp\n",
        "import pathlib\n",
        "import random\n",
        "import tensorflow as tf\n",
        "\n",
        "from tensorflow import keras\n",
        "from tensorflow_text.tools.wordpiece_vocab import (\n",
        "    bert_vocab_from_dataset as bert_vocab,\n",
        ")"
      ]
    },
    {
      "cell_type": "markdown",
      "metadata": {
        "id": "Jja6Qr5zBBP4"
      },
      "source": [
        "Let's also define our parameters/hyperparameters."
      ]
    },
    {
      "cell_type": "code",
      "execution_count": 3,
      "metadata": {
        "id": "njMkCyFABBP5"
      },
      "outputs": [],
      "source": [
        "BATCH_SIZE = 64\n",
        "EPOCHS = 10  # This should be at least 10 for convergence\n",
        "MAX_SEQUENCE_LENGTH = 40\n",
        "ENG_VOCAB_SIZE = 1000\n",
        "SPA_VOCAB_SIZE = 1000\n",
        "\n",
        "EMBED_DIM = 256\n",
        "INTERMEDIATE_DIM = 2048\n",
        "NUM_HEADS = 8"
      ]
    },
    {
      "cell_type": "markdown",
      "metadata": {
        "id": "adCQXwA8BBP5"
      },
      "source": [
        "## Downloading the data\n",
        "\n",
        "We'll be working with an English-to-Spanish translation dataset\n",
        "provided by [Anki](https://www.manythings.org/anki/). Let's download it:"
      ]
    },
    {
      "cell_type": "code",
      "execution_count": 7,
      "metadata": {
        "id": "IjlES3IaBBP5",
        "colab": {
          "base_uri": "https://localhost:8080/"
        },
        "outputId": "454559db-888f-40fc-a719-aa25a456d8a4"
      },
      "outputs": [
        {
          "output_type": "stream",
          "name": "stdout",
          "text": [
            "('0', 'zero')\n",
            "('1', 'one')\n",
            "('2', 'two')\n",
            "('3', 'three')\n",
            "('4', 'four')\n",
            "('5', 'five')\n",
            "('6', 'six')\n",
            "('7', 'seven')\n",
            "('8', 'eight')\n",
            "('9', 'nine')\n",
            "('1 0', 'ten')\n",
            "('1 1', 'eleven')\n",
            "('1 2', 'twelve')\n",
            "('1 3', 'thirteen')\n",
            "('1 4', 'fourteen')\n",
            "('1 5', 'fifteen')\n",
            "('1 6', 'sixteen')\n",
            "('1 7', 'seventeen')\n",
            "('1 8', 'eighteen')\n",
            "('1 9', 'nineteen')\n",
            "('2 0', 'twenty ')\n",
            "('2 1', 'twenty one')\n",
            "('2 2', 'twenty two')\n",
            "('2 3', 'twenty three')\n",
            "('2 4', 'twenty four')\n",
            "('2 5', 'twenty five')\n",
            "('2 6', 'twenty six')\n",
            "('2 7', 'twenty seven')\n",
            "('2 8', 'twenty eight')\n",
            "('2 9', 'twenty nine')\n",
            "('3 0', 'thirty ')\n",
            "('3 1', 'thirty one')\n",
            "('3 2', 'thirty two')\n",
            "('3 3', 'thirty three')\n",
            "('3 4', 'thirty four')\n",
            "('3 5', 'thirty five')\n",
            "('3 6', 'thirty six')\n",
            "('3 7', 'thirty seven')\n",
            "('3 8', 'thirty eight')\n",
            "('3 9', 'thirty nine')\n",
            "('4 0', 'forty ')\n",
            "('4 1', 'forty one')\n",
            "('4 2', 'forty two')\n",
            "('4 3', 'forty three')\n",
            "('4 4', 'forty four')\n",
            "('4 5', 'forty five')\n",
            "('4 6', 'forty six')\n",
            "('4 7', 'forty seven')\n",
            "('4 8', 'forty eight')\n",
            "('4 9', 'forty nine')\n",
            "('5 0', 'fifty ')\n",
            "('5 1', 'fifty one')\n",
            "('5 2', 'fifty two')\n",
            "('5 3', 'fifty three')\n",
            "('5 4', 'fifty four')\n",
            "('5 5', 'fifty five')\n",
            "('5 6', 'fifty six')\n",
            "('5 7', 'fifty seven')\n",
            "('5 8', 'fifty eight')\n",
            "('5 9', 'fifty nine')\n",
            "('6 0', 'sixty ')\n",
            "('6 1', 'sixty one')\n",
            "('6 2', 'sixty two')\n",
            "('6 3', 'sixty three')\n",
            "('6 4', 'sixty four')\n",
            "('6 5', 'sixty five')\n",
            "('6 6', 'sixty six')\n",
            "('6 7', 'sixty seven')\n",
            "('6 8', 'sixty eight')\n",
            "('6 9', 'sixty nine')\n",
            "('7 0', 'seventy ')\n",
            "('7 1', 'seventy one')\n",
            "('7 2', 'seventy two')\n",
            "('7 3', 'seventy three')\n",
            "('7 4', 'seventy four')\n",
            "('7 5', 'seventy five')\n",
            "('7 6', 'seventy six')\n",
            "('7 7', 'seventy seven')\n",
            "('7 8', 'seventy eight')\n",
            "('7 9', 'seventy nine')\n",
            "('8 0', 'eighty ')\n",
            "('8 1', 'eighty one')\n",
            "('8 2', 'eighty two')\n",
            "('8 3', 'eighty three')\n",
            "('8 4', 'eighty four')\n",
            "('8 5', 'eighty five')\n",
            "('8 6', 'eighty six')\n",
            "('8 7', 'eighty seven')\n",
            "('8 8', 'eighty eight')\n",
            "('8 9', 'eighty nine')\n",
            "('9 0', 'ninety ')\n",
            "('9 1', 'ninety one')\n",
            "('9 2', 'ninety two')\n",
            "('9 3', 'ninety three')\n",
            "('9 4', 'ninety four')\n",
            "('9 5', 'ninety five')\n",
            "('9 6', 'ninety six')\n",
            "('9 7', 'ninety seven')\n",
            "('9 8', 'ninety eight')\n",
            "('9 9', 'ninety nine')\n",
            "('1 0 0', 'one hundred')\n",
            "('1 0 1', 'one hundred and one')\n",
            "('1 0 2', 'one hundred and two')\n",
            "('1 0 3', 'one hundred and three')\n",
            "('1 0 4', 'one hundred and four')\n",
            "('1 0 5', 'one hundred and five')\n",
            "('1 0 6', 'one hundred and six')\n",
            "('1 0 7', 'one hundred and seven')\n",
            "('1 0 8', 'one hundred and eight')\n",
            "('1 0 9', 'one hundred and nine')\n",
            "('1 1 0', 'one hundred and ten')\n",
            "('1 1 1', 'one hundred and eleven')\n",
            "('1 1 2', 'one hundred and twelve')\n",
            "('1 1 3', 'one hundred and thirteen')\n",
            "('1 1 4', 'one hundred and fourteen')\n",
            "('1 1 5', 'one hundred and fifteen')\n",
            "('1 1 6', 'one hundred and sixteen')\n",
            "('1 1 7', 'one hundred and seventeen')\n",
            "('1 1 8', 'one hundred and eighteen')\n",
            "('1 1 9', 'one hundred and nineteen')\n",
            "('1 2 0', 'one hundred and twenty ')\n",
            "('1 2 1', 'one hundred and twenty one')\n",
            "('1 2 2', 'one hundred and twenty two')\n",
            "('1 2 3', 'one hundred and twenty three')\n",
            "('1 2 4', 'one hundred and twenty four')\n",
            "('1 2 5', 'one hundred and twenty five')\n",
            "('1 2 6', 'one hundred and twenty six')\n",
            "('1 2 7', 'one hundred and twenty seven')\n",
            "('1 2 8', 'one hundred and twenty eight')\n",
            "('1 2 9', 'one hundred and twenty nine')\n",
            "('1 3 0', 'one hundred and thirty ')\n",
            "('1 3 1', 'one hundred and thirty one')\n",
            "('1 3 2', 'one hundred and thirty two')\n",
            "('1 3 3', 'one hundred and thirty three')\n",
            "('1 3 4', 'one hundred and thirty four')\n",
            "('1 3 5', 'one hundred and thirty five')\n",
            "('1 3 6', 'one hundred and thirty six')\n",
            "('1 3 7', 'one hundred and thirty seven')\n",
            "('1 3 8', 'one hundred and thirty eight')\n",
            "('1 3 9', 'one hundred and thirty nine')\n",
            "('1 4 0', 'one hundred and forty ')\n",
            "('1 4 1', 'one hundred and forty one')\n",
            "('1 4 2', 'one hundred and forty two')\n",
            "('1 4 3', 'one hundred and forty three')\n",
            "('1 4 4', 'one hundred and forty four')\n",
            "('1 4 5', 'one hundred and forty five')\n",
            "('1 4 6', 'one hundred and forty six')\n",
            "('1 4 7', 'one hundred and forty seven')\n",
            "('1 4 8', 'one hundred and forty eight')\n",
            "('1 4 9', 'one hundred and forty nine')\n",
            "('1 5 0', 'one hundred and fifty ')\n",
            "('1 5 1', 'one hundred and fifty one')\n",
            "('1 5 2', 'one hundred and fifty two')\n",
            "('1 5 3', 'one hundred and fifty three')\n",
            "('1 5 4', 'one hundred and fifty four')\n",
            "('1 5 5', 'one hundred and fifty five')\n",
            "('1 5 6', 'one hundred and fifty six')\n",
            "('1 5 7', 'one hundred and fifty seven')\n",
            "('1 5 8', 'one hundred and fifty eight')\n",
            "('1 5 9', 'one hundred and fifty nine')\n",
            "('1 6 0', 'one hundred and sixty ')\n",
            "('1 6 1', 'one hundred and sixty one')\n",
            "('1 6 2', 'one hundred and sixty two')\n",
            "('1 6 3', 'one hundred and sixty three')\n",
            "('1 6 4', 'one hundred and sixty four')\n",
            "('1 6 5', 'one hundred and sixty five')\n",
            "('1 6 6', 'one hundred and sixty six')\n",
            "('1 6 7', 'one hundred and sixty seven')\n",
            "('1 6 8', 'one hundred and sixty eight')\n",
            "('1 6 9', 'one hundred and sixty nine')\n",
            "('1 7 0', 'one hundred and seventy ')\n",
            "('1 7 1', 'one hundred and seventy one')\n",
            "('1 7 2', 'one hundred and seventy two')\n",
            "('1 7 3', 'one hundred and seventy three')\n",
            "('1 7 4', 'one hundred and seventy four')\n",
            "('1 7 5', 'one hundred and seventy five')\n",
            "('1 7 6', 'one hundred and seventy six')\n",
            "('1 7 7', 'one hundred and seventy seven')\n",
            "('1 7 8', 'one hundred and seventy eight')\n",
            "('1 7 9', 'one hundred and seventy nine')\n",
            "('1 8 0', 'one hundred and eighty ')\n",
            "('1 8 1', 'one hundred and eighty one')\n",
            "('1 8 2', 'one hundred and eighty two')\n",
            "('1 8 3', 'one hundred and eighty three')\n",
            "('1 8 4', 'one hundred and eighty four')\n",
            "('1 8 5', 'one hundred and eighty five')\n",
            "('1 8 6', 'one hundred and eighty six')\n",
            "('1 8 7', 'one hundred and eighty seven')\n",
            "('1 8 8', 'one hundred and eighty eight')\n",
            "('1 8 9', 'one hundred and eighty nine')\n",
            "('1 9 0', 'one hundred and ninety ')\n",
            "('1 9 1', 'one hundred and ninety one')\n",
            "('1 9 2', 'one hundred and ninety two')\n",
            "('1 9 3', 'one hundred and ninety three')\n",
            "('1 9 4', 'one hundred and ninety four')\n",
            "('1 9 5', 'one hundred and ninety five')\n",
            "('1 9 6', 'one hundred and ninety six')\n",
            "('1 9 7', 'one hundred and ninety seven')\n",
            "('1 9 8', 'one hundred and ninety eight')\n",
            "('1 9 9', 'one hundred and ninety nine')\n"
          ]
        }
      ],
      "source": [
        "# Function to convert a number to its word representation\n",
        "def number_to_words(n):\n",
        "    # Define lists of words for each digit\n",
        "    ones = ['','one','two','three','four','five','six','seven','eight','nine']\n",
        "    teens = ['ten','eleven','twelve','thirteen','fourteen','fifteen','sixteen','seventeen','eighteen','nineteen']\n",
        "    tens = ['','','twenty','thirty','forty','fifty','sixty','seventy','eighty','ninety']\n",
        "\n",
        "    if n == 0:\n",
        "      return \"zero\"\n",
        "    elif 0 < n < 10:\n",
        "        return ones[n]\n",
        "    elif 10 <= n < 20:\n",
        "        return teens[n-10]\n",
        "    elif 20 <= n < 100:\n",
        "        return tens[n//10] + ' '+ ones[n%10]\n",
        "    elif 100 <= n < 1000:\n",
        "        return ones[n//100] + ' hundred' + (' and ' + number_to_words(n%100) if n % 100 != 0 else '')\n",
        "    else:\n",
        "        return \"Number out of range\"\n",
        "\n",
        "# Generating digit to word pairs for numbers from 0 to 999\n",
        "text_pairs = []\n",
        "\n",
        "for i in range(1000):\n",
        "    digit_representation = ' '.join(list(str(i)))\n",
        "    word_representation = number_to_words(i)\n",
        "    text_pairs.append((digit_representation, word_representation))\n",
        "\n",
        "# Displaying a few generated pairs\n",
        "for pair in text_pairs[:200]:\n",
        "    print(pair)"
      ]
    },
    {
      "cell_type": "markdown",
      "metadata": {
        "id": "flI4HG2aBBP6"
      },
      "source": [
        "## Parsing the data\n",
        "\n",
        "Each line contains an English sentence and its corresponding Spanish sentence.\n",
        "The English sentence is the *source sequence* and Spanish one is the *target sequence*.\n",
        "Before adding the text to a list, we convert it to lowercase."
      ]
    },
    {
      "cell_type": "markdown",
      "metadata": {
        "id": "AmEPA6OVBBP7"
      },
      "source": [
        "Here's what our sentence pairs look like:"
      ]
    },
    {
      "cell_type": "code",
      "execution_count": 8,
      "metadata": {
        "id": "S2JXyUuBBBP7",
        "colab": {
          "base_uri": "https://localhost:8080/"
        },
        "outputId": "a9d21fa7-790c-4c50-c7f5-f9ace2132b9e"
      },
      "outputs": [
        {
          "output_type": "stream",
          "name": "stdout",
          "text": [
            "('9 5 0', 'nine hundred and fifty ')\n",
            "('9 5 1', 'nine hundred and fifty one')\n",
            "('6 7 3', 'six hundred and seventy three')\n",
            "('2 7 2', 'two hundred and seventy two')\n",
            "('4 7 9', 'four hundred and seventy nine')\n"
          ]
        }
      ],
      "source": [
        "for _ in range(5):\n",
        "    print(random.choice(text_pairs))"
      ]
    },
    {
      "cell_type": "markdown",
      "metadata": {
        "id": "abLOVU_BBBP7"
      },
      "source": [
        "Now, let's split the sentence pairs into a training set, a validation set,\n",
        "and a test set."
      ]
    },
    {
      "cell_type": "code",
      "execution_count": 9,
      "metadata": {
        "id": "QJiaGS5xBBP7",
        "colab": {
          "base_uri": "https://localhost:8080/"
        },
        "outputId": "be9f8b21-8ade-457e-c05a-763a3028cc11"
      },
      "outputs": [
        {
          "output_type": "stream",
          "name": "stdout",
          "text": [
            "1000 total pairs\n",
            "700 training pairs\n",
            "150 validation pairs\n",
            "150 test pairs\n"
          ]
        }
      ],
      "source": [
        "random.shuffle(text_pairs)\n",
        "num_val_samples = int(0.15 * len(text_pairs))\n",
        "num_train_samples = len(text_pairs) - 2 * num_val_samples\n",
        "train_pairs = text_pairs[:num_train_samples]\n",
        "val_pairs = text_pairs[num_train_samples : num_train_samples + num_val_samples]\n",
        "test_pairs = text_pairs[num_train_samples + num_val_samples :]\n",
        "\n",
        "print(f\"{len(text_pairs)} total pairs\")\n",
        "print(f\"{len(train_pairs)} training pairs\")\n",
        "print(f\"{len(val_pairs)} validation pairs\")\n",
        "print(f\"{len(test_pairs)} test pairs\")\n"
      ]
    },
    {
      "cell_type": "markdown",
      "metadata": {
        "id": "1cU8GMEHBBP7"
      },
      "source": [
        "## Tokenizing the data\n",
        "\n",
        "We'll define two tokenizers - one for the source language (English), and the other\n",
        "for the target language (Spanish). We'll be using\n",
        "`keras_nlp.tokenizers.WordPieceTokenizer` to tokenize the text.\n",
        "`keras_nlp.tokenizers.WordPieceTokenizer` takes a WordPiece vocabulary\n",
        "and has functions for tokenizing the text, and detokenizing sequences of tokens.\n",
        "\n",
        "Before we define the two tokenizers, we first need to train them on the dataset\n",
        "we have. The WordPiece tokenization algorithm is a subword tokenization algorithm;\n",
        "training it on a corpus gives us a vocabulary of subwords. A subword tokenizer\n",
        "is a compromise between word tokenizers (word tokenizers need very large\n",
        "vocabularies for good coverage of input words), and character tokenizers\n",
        "(characters don't really encode meaning like words do). Luckily, KerasNLP\n",
        "makes it very simple to train WordPiece on a corpus with the\n",
        "`keras_nlp.tokenizers.compute_word_piece_vocabulary` utility."
      ]
    },
    {
      "cell_type": "code",
      "execution_count": 10,
      "metadata": {
        "id": "Qk1pFbysBBP7"
      },
      "outputs": [],
      "source": [
        "\n",
        "def train_word_piece(text_samples, vocab_size, reserved_tokens):\n",
        "    word_piece_ds = tf.data.Dataset.from_tensor_slices(text_samples)\n",
        "    vocab = keras_nlp.tokenizers.compute_word_piece_vocabulary(\n",
        "        word_piece_ds.batch(1000).prefetch(2),\n",
        "        vocabulary_size=vocab_size,\n",
        "        reserved_tokens=reserved_tokens,\n",
        "    )\n",
        "    return vocab\n"
      ]
    },
    {
      "cell_type": "markdown",
      "metadata": {
        "id": "X3GC4sj7BBP8"
      },
      "source": [
        "Every vocabulary has a few special, reserved tokens. We have four such tokens:\n",
        "\n",
        "- `\"[PAD]\"` - Padding token. Padding tokens are appended to the input sequence\n",
        "length when the input sequence length is shorter than the maximum sequence length.\n",
        "- `\"[UNK]\"` - Unknown token.\n",
        "- `\"[START]\"` - Token that marks the start of the input sequence.\n",
        "- `\"[END]\"` - Token that marks the end of the input sequence."
      ]
    },
    {
      "cell_type": "code",
      "execution_count": 11,
      "metadata": {
        "id": "ubNKTKS_BBP8"
      },
      "outputs": [],
      "source": [
        "reserved_tokens = [\"[PAD]\", \"[UNK]\", \"[START]\", \"[END]\"]\n",
        "\n",
        "eng_samples = [text_pair[0] for text_pair in train_pairs]\n",
        "eng_vocab = train_word_piece(eng_samples, ENG_VOCAB_SIZE, reserved_tokens)\n",
        "\n",
        "spa_samples = [text_pair[1] for text_pair in train_pairs]\n",
        "spa_vocab = train_word_piece(spa_samples, SPA_VOCAB_SIZE, reserved_tokens)"
      ]
    },
    {
      "cell_type": "markdown",
      "metadata": {
        "id": "GNvplc1cBBP8"
      },
      "source": [
        "Let's see some tokens!"
      ]
    },
    {
      "cell_type": "code",
      "execution_count": 13,
      "metadata": {
        "id": "ZY7EKEhuBBP8",
        "colab": {
          "base_uri": "https://localhost:8080/"
        },
        "outputId": "c3a9e663-aa54-41f6-e81c-db26f272b946"
      },
      "outputs": [
        {
          "output_type": "stream",
          "name": "stdout",
          "text": [
            "English Tokens:  []\n",
            "Spanish Tokens:  []\n"
          ]
        }
      ],
      "source": [
        "print(\"English Tokens: \", eng_vocab[100:110])\n",
        "print(\"Spanish Tokens: \", spa_vocab[100:110])"
      ]
    },
    {
      "cell_type": "markdown",
      "metadata": {
        "id": "syRiLgLtBBP8"
      },
      "source": [
        "Now, let's define the tokenizers. We will configure the tokenizers with the\n",
        "the vocabularies trained above."
      ]
    },
    {
      "cell_type": "code",
      "execution_count": 14,
      "metadata": {
        "id": "ByFXDhR6BBP8"
      },
      "outputs": [],
      "source": [
        "eng_tokenizer = keras_nlp.tokenizers.WordPieceTokenizer(\n",
        "    vocabulary=eng_vocab, lowercase=False\n",
        ")\n",
        "spa_tokenizer = keras_nlp.tokenizers.WordPieceTokenizer(\n",
        "    vocabulary=spa_vocab, lowercase=False\n",
        ")"
      ]
    },
    {
      "cell_type": "markdown",
      "metadata": {
        "id": "PInwBp6bBBP8"
      },
      "source": [
        "Let's try and tokenize a sample from our dataset! To verify whether the text has\n",
        "been tokenized correctly, we can also detokenize the list of tokens back to the\n",
        "original text."
      ]
    },
    {
      "cell_type": "code",
      "execution_count": 15,
      "metadata": {
        "id": "xZqiHV5lBBP8",
        "colab": {
          "base_uri": "https://localhost:8080/"
        },
        "outputId": "072ff38a-d020-4203-a6ac-dca987959315"
      },
      "outputs": [
        {
          "output_type": "stream",
          "name": "stdout",
          "text": [
            "English sentence:  2 6\n",
            "Tokens:  tf.Tensor([ 6 10], shape=(2,), dtype=int32)\n",
            "Recovered text after detokenizing:  tf.Tensor(b'2 6', shape=(), dtype=string)\n",
            "\n",
            "Spanish sentence:  twenty six\n",
            "Tokens:  tf.Tensor([37 26], shape=(2,), dtype=int32)\n",
            "Recovered text after detokenizing:  tf.Tensor(b'twenty six', shape=(), dtype=string)\n"
          ]
        }
      ],
      "source": [
        "eng_input_ex = text_pairs[0][0]\n",
        "eng_tokens_ex = eng_tokenizer.tokenize(eng_input_ex)\n",
        "print(\"English sentence: \", eng_input_ex)\n",
        "print(\"Tokens: \", eng_tokens_ex)\n",
        "print(\n",
        "    \"Recovered text after detokenizing: \",\n",
        "    eng_tokenizer.detokenize(eng_tokens_ex),\n",
        ")\n",
        "\n",
        "print()\n",
        "\n",
        "spa_input_ex = text_pairs[0][1]\n",
        "spa_tokens_ex = spa_tokenizer.tokenize(spa_input_ex)\n",
        "print(\"Spanish sentence: \", spa_input_ex)\n",
        "print(\"Tokens: \", spa_tokens_ex)\n",
        "print(\n",
        "    \"Recovered text after detokenizing: \",\n",
        "    spa_tokenizer.detokenize(spa_tokens_ex),\n",
        ")"
      ]
    },
    {
      "cell_type": "markdown",
      "metadata": {
        "id": "clZnzo7xBBP9"
      },
      "source": [
        "## Format datasets\n",
        "\n",
        "Next, we'll format our datasets.\n",
        "\n",
        "At each training step, the model will seek to predict target words N+1 (and beyond)\n",
        "using the source sentence and the target words 0 to N.\n",
        "\n",
        "As such, the training dataset will yield a tuple `(inputs, targets)`, where:\n",
        "\n",
        "- `inputs` is a dictionary with the keys `encoder_inputs` and `decoder_inputs`.\n",
        "`encoder_inputs` is the tokenized source sentence and `decoder_inputs` is the target\n",
        "sentence \"so far\",\n",
        "that is to say, the words 0 to N used to predict word N+1 (and beyond) in the target\n",
        "sentence.\n",
        "- `target` is the target sentence offset by one step:\n",
        "it provides the next words in the target sentence -- what the model will try to predict.\n",
        "\n",
        "We will add special tokens, `\"[START]\"` and `\"[END]\"`, to the input Spanish\n",
        "sentence after tokenizing the text. We will also pad the input to a fixed length.\n",
        "This can be easily done using `keras_nlp.layers.StartEndPacker`."
      ]
    },
    {
      "cell_type": "code",
      "execution_count": 16,
      "metadata": {
        "id": "L4Q2Xql4BBP9"
      },
      "outputs": [],
      "source": [
        "\n",
        "def preprocess_batch(eng, spa):\n",
        "    batch_size = tf.shape(spa)[0]\n",
        "\n",
        "    eng = eng_tokenizer(eng)\n",
        "    spa = spa_tokenizer(spa)\n",
        "\n",
        "    # Pad `eng` to `MAX_SEQUENCE_LENGTH`.\n",
        "    eng_start_end_packer = keras_nlp.layers.StartEndPacker(\n",
        "        sequence_length=MAX_SEQUENCE_LENGTH,\n",
        "        pad_value=eng_tokenizer.token_to_id(\"[PAD]\"),\n",
        "    )\n",
        "    eng = eng_start_end_packer(eng)\n",
        "\n",
        "    # Add special tokens (`\"[START]\"` and `\"[END]\"`) to `spa` and pad it as well.\n",
        "    spa_start_end_packer = keras_nlp.layers.StartEndPacker(\n",
        "        sequence_length=MAX_SEQUENCE_LENGTH + 1,\n",
        "        start_value=spa_tokenizer.token_to_id(\"[START]\"),\n",
        "        end_value=spa_tokenizer.token_to_id(\"[END]\"),\n",
        "        pad_value=spa_tokenizer.token_to_id(\"[PAD]\"),\n",
        "    )\n",
        "    spa = spa_start_end_packer(spa)\n",
        "\n",
        "    return (\n",
        "        {\n",
        "            \"encoder_inputs\": eng,\n",
        "            \"decoder_inputs\": spa[:, :-1],\n",
        "        },\n",
        "        spa[:, 1:],\n",
        "    )\n",
        "\n",
        "\n",
        "def make_dataset(pairs):\n",
        "    eng_texts, spa_texts = zip(*pairs)\n",
        "    eng_texts = list(eng_texts)\n",
        "    spa_texts = list(spa_texts)\n",
        "    dataset = tf.data.Dataset.from_tensor_slices((eng_texts, spa_texts))\n",
        "    dataset = dataset.batch(BATCH_SIZE)\n",
        "    dataset = dataset.map(preprocess_batch, num_parallel_calls=tf.data.AUTOTUNE)\n",
        "    return dataset.shuffle(2048).prefetch(16).cache()\n",
        "\n",
        "\n",
        "train_ds = make_dataset(train_pairs)\n",
        "val_ds = make_dataset(val_pairs)"
      ]
    },
    {
      "cell_type": "markdown",
      "metadata": {
        "id": "pAG6Y-2JBBP9"
      },
      "source": [
        "Let's take a quick look at the sequence shapes\n",
        "(we have batches of 64 pairs, and all sequences are 40 steps long):"
      ]
    },
    {
      "cell_type": "code",
      "execution_count": 17,
      "metadata": {
        "id": "l_VXSUBJBBP9",
        "colab": {
          "base_uri": "https://localhost:8080/"
        },
        "outputId": "1b684fa1-a136-474f-d440-58bdd5217abc"
      },
      "outputs": [
        {
          "output_type": "stream",
          "name": "stdout",
          "text": [
            "inputs[\"encoder_inputs\"].shape: (60, 40)\n",
            "inputs[\"decoder_inputs\"].shape: (60, 40)\n",
            "targets.shape: (60, 40)\n"
          ]
        }
      ],
      "source": [
        "for inputs, targets in train_ds.take(1):\n",
        "    print(f'inputs[\"encoder_inputs\"].shape: {inputs[\"encoder_inputs\"].shape}')\n",
        "    print(f'inputs[\"decoder_inputs\"].shape: {inputs[\"decoder_inputs\"].shape}')\n",
        "    print(f\"targets.shape: {targets.shape}\")\n"
      ]
    },
    {
      "cell_type": "markdown",
      "metadata": {
        "id": "R2_lhTsFBBP9"
      },
      "source": [
        "## Building the model\n",
        "\n",
        "Now, let's move on to the exciting part - defining our model!\n",
        "We first need an embedding layer, i.e., a vector for every token in our input sequence.\n",
        "This embedding layer can be initialised randomly. We also need a positional\n",
        "embedding layer which encodes the word order in the sequence. The convention is\n",
        "to add these two embeddings. KerasNLP has a `keras_nlp.layers.TokenAndPositionEmbedding `\n",
        "layer which does all of the above steps for us.\n",
        "\n",
        "Our sequence-to-sequence Transformer consists of a `keras_nlp.layers.TransformerEncoder`\n",
        "layer and a `keras_nlp.layers.TransformerDecoder` layer chained together.\n",
        "\n",
        "The source sequence will be passed to `keras_nlp.layers.TransformerEncoder`, which\n",
        "will produce a new representation of it. This new representation will then be passed\n",
        "to the `keras_nlp.layers.TransformerDecoder`, together with the target sequence\n",
        "so far (target words 0 to N). The `keras_nlp.layers.TransformerDecoder` will\n",
        "then seek to predict the next words in the target sequence (N+1 and beyond).\n",
        "\n",
        "A key detail that makes this possible is causal masking.\n",
        "The `keras_nlp.layers.TransformerDecoder` sees the entire sequence at once, and\n",
        "thus we must make sure that it only uses information from target tokens 0 to N\n",
        "when predicting token N+1 (otherwise, it could use information from the future,\n",
        "which would result in a model that cannot be used at inference time). Causal masking\n",
        "is enabled by default in `keras_nlp.layers.TransformerDecoder`.\n",
        "\n",
        "We also need to mask the padding tokens (`\"[PAD]\"`). For this, we can set the\n",
        "`mask_zero` argument of the `keras_nlp.layers.TokenAndPositionEmbedding` layer\n",
        "to True. This will then be propagated to all subsequent layers."
      ]
    },
    {
      "cell_type": "code",
      "execution_count": 18,
      "metadata": {
        "id": "7gk5TFeTBBP9"
      },
      "outputs": [],
      "source": [
        "# Encoder\n",
        "encoder_inputs = keras.Input(shape=(None,), dtype=\"int64\", name=\"encoder_inputs\")\n",
        "\n",
        "x = keras_nlp.layers.TokenAndPositionEmbedding(\n",
        "    vocabulary_size=ENG_VOCAB_SIZE,\n",
        "    sequence_length=MAX_SEQUENCE_LENGTH,\n",
        "    embedding_dim=EMBED_DIM,\n",
        "    mask_zero=True,\n",
        ")(encoder_inputs)\n",
        "\n",
        "encoder_outputs = keras_nlp.layers.TransformerEncoder(\n",
        "    intermediate_dim=INTERMEDIATE_DIM, num_heads=NUM_HEADS\n",
        ")(inputs=x)\n",
        "encoder = keras.Model(encoder_inputs, encoder_outputs)\n",
        "\n",
        "\n",
        "# Decoder\n",
        "decoder_inputs = keras.Input(shape=(None,), dtype=\"int64\", name=\"decoder_inputs\")\n",
        "encoded_seq_inputs = keras.Input(shape=(None, EMBED_DIM), name=\"decoder_state_inputs\")\n",
        "\n",
        "x = keras_nlp.layers.TokenAndPositionEmbedding(\n",
        "    vocabulary_size=SPA_VOCAB_SIZE,\n",
        "    sequence_length=MAX_SEQUENCE_LENGTH,\n",
        "    embedding_dim=EMBED_DIM,\n",
        "    mask_zero=True,\n",
        ")(decoder_inputs)\n",
        "\n",
        "x = keras_nlp.layers.TransformerDecoder(\n",
        "    intermediate_dim=INTERMEDIATE_DIM, num_heads=NUM_HEADS\n",
        ")(decoder_sequence=x, encoder_sequence=encoded_seq_inputs)\n",
        "x = keras.layers.Dropout(0.5)(x)\n",
        "decoder_outputs = keras.layers.Dense(SPA_VOCAB_SIZE, activation=\"softmax\")(x)\n",
        "decoder = keras.Model(\n",
        "    [\n",
        "        decoder_inputs,\n",
        "        encoded_seq_inputs,\n",
        "    ],\n",
        "    decoder_outputs,\n",
        ")\n",
        "decoder_outputs = decoder([decoder_inputs, encoder_outputs])\n",
        "\n",
        "transformer = keras.Model(\n",
        "    [encoder_inputs, decoder_inputs],\n",
        "    decoder_outputs,\n",
        "    name=\"transformer\",\n",
        ")"
      ]
    },
    {
      "cell_type": "markdown",
      "metadata": {
        "id": "JPJ2T_TPBBP-"
      },
      "source": [
        "## Training our model\n",
        "\n",
        "We'll use accuracy as a quick way to monitor training progress on the validation data.\n",
        "Note that machine translation typically uses BLEU scores as well as other metrics,\n",
        "rather than accuracy. However, in order to use metrics like ROUGE, BLEU, etc. we\n",
        "will have decode the probabilities and generate the text. Text generation is\n",
        "computationally expensive, and performing this during training is not recommended.\n",
        "\n",
        "Here we only train for 1 epoch, but to get the model to actually converge\n",
        "you should train for at least 10 epochs."
      ]
    },
    {
      "cell_type": "code",
      "execution_count": 19,
      "metadata": {
        "id": "Ndtg3ix5BBP-",
        "colab": {
          "base_uri": "https://localhost:8080/"
        },
        "outputId": "cf011078-424c-457b-defd-fa58339ff61d"
      },
      "outputs": [
        {
          "output_type": "stream",
          "name": "stdout",
          "text": [
            "Model: \"transformer\"\n",
            "__________________________________________________________________________________________________\n",
            " Layer (type)                Output Shape                 Param #   Connected to                  \n",
            "==================================================================================================\n",
            " encoder_inputs (InputLayer  [(None, None)]               0         []                            \n",
            " )                                                                                                \n",
            "                                                                                                  \n",
            " token_and_position_embeddi  (None, None, 256)            266240    ['encoder_inputs[0][0]']      \n",
            " ng (TokenAndPositionEmbedd                                                                       \n",
            " ing)                                                                                             \n",
            "                                                                                                  \n",
            " decoder_inputs (InputLayer  [(None, None)]               0         []                            \n",
            " )                                                                                                \n",
            "                                                                                                  \n",
            " transformer_encoder (Trans  (None, None, 256)            1315072   ['token_and_position_embedding\n",
            " formerEncoder)                                                     [0][0]']                      \n",
            "                                                                                                  \n",
            " model_1 (Functional)        (None, None, 1000)           2101992   ['decoder_inputs[0][0]',      \n",
            "                                                                     'transformer_encoder[0][0]'] \n",
            "                                                                                                  \n",
            "==================================================================================================\n",
            "Total params: 3683304 (14.05 MB)\n",
            "Trainable params: 3683304 (14.05 MB)\n",
            "Non-trainable params: 0 (0.00 Byte)\n",
            "__________________________________________________________________________________________________\n",
            "Epoch 1/10\n",
            "11/11 [==============================] - 16s 184ms/step - loss: 2.4465 - accuracy: 0.5413 - val_loss: 1.0547 - val_accuracy: 0.7838\n",
            "Epoch 2/10\n",
            "11/11 [==============================] - 0s 33ms/step - loss: 0.6451 - accuracy: 0.8623 - val_loss: 0.2621 - val_accuracy: 0.9374\n",
            "Epoch 3/10\n",
            "11/11 [==============================] - 0s 29ms/step - loss: 0.2353 - accuracy: 0.9507 - val_loss: 0.1937 - val_accuracy: 0.9394\n",
            "Epoch 4/10\n",
            "11/11 [==============================] - 0s 34ms/step - loss: 0.1417 - accuracy: 0.9753 - val_loss: 0.1049 - val_accuracy: 0.9808\n",
            "Epoch 5/10\n",
            "11/11 [==============================] - 0s 35ms/step - loss: 0.1159 - accuracy: 0.9787 - val_loss: 0.0811 - val_accuracy: 0.9808\n",
            "Epoch 6/10\n",
            "11/11 [==============================] - 0s 36ms/step - loss: 0.0892 - accuracy: 0.9819 - val_loss: 0.0576 - val_accuracy: 0.9838\n",
            "Epoch 7/10\n",
            "11/11 [==============================] - 0s 37ms/step - loss: 0.1272 - accuracy: 0.9688 - val_loss: 0.0518 - val_accuracy: 0.9859\n",
            "Epoch 8/10\n",
            "11/11 [==============================] - 0s 34ms/step - loss: 0.0318 - accuracy: 0.9931 - val_loss: 0.0472 - val_accuracy: 0.9869\n",
            "Epoch 9/10\n",
            "11/11 [==============================] - 0s 35ms/step - loss: 0.0223 - accuracy: 0.9957 - val_loss: 0.0466 - val_accuracy: 0.9879\n",
            "Epoch 10/10\n",
            "11/11 [==============================] - 0s 36ms/step - loss: 0.0181 - accuracy: 0.9968 - val_loss: 0.0505 - val_accuracy: 0.9889\n"
          ]
        },
        {
          "output_type": "execute_result",
          "data": {
            "text/plain": [
              "<keras.src.callbacks.History at 0x7f01d738bac0>"
            ]
          },
          "metadata": {},
          "execution_count": 19
        }
      ],
      "source": [
        "transformer.summary()\n",
        "transformer.compile(\n",
        "    \"rmsprop\", loss=\"sparse_categorical_crossentropy\", metrics=[\"accuracy\"]\n",
        ")\n",
        "transformer.fit(train_ds, epochs=EPOCHS, validation_data=val_ds)"
      ]
    },
    {
      "cell_type": "markdown",
      "metadata": {
        "id": "N3ANNskxBBP-"
      },
      "source": [
        "## Decoding test sentences (qualitative analysis)\n",
        "\n",
        "Finally, let's demonstrate how to translate brand new English sentences.\n",
        "We simply feed into the model the tokenized English sentence\n",
        "as well as the target token `\"[START]\"`. The model outputs probabilities of the\n",
        "next token. We then we repeatedly generated the next token conditioned on the\n",
        "tokens generated so far, until we hit the token `\"[END]\"`.\n",
        "\n",
        "For decoding, we will use the `keras_nlp.samplers` module from\n",
        "KerasNLP. Greedy Decoding is a text decoding method which outputs the most\n",
        "likely next token at each time step, i.e., the token with the highest probability."
      ]
    },
    {
      "cell_type": "code",
      "execution_count": 20,
      "metadata": {
        "id": "JsNYttDGBBP-",
        "colab": {
          "base_uri": "https://localhost:8080/"
        },
        "outputId": "cc0ec2df-5868-4987-92b0-a767b6c8c9c7"
      },
      "outputs": [
        {
          "output_type": "stream",
          "name": "stdout",
          "text": [
            "** Example 0 **\n",
            "3 0\n",
            "thirty\n",
            "\n",
            "** Example 1 **\n",
            "8 6 1\n",
            "eight hundred and sixty one\n",
            "\n",
            "** Example 2 **\n",
            "9 8 4\n",
            "nine hundred and eighty four\n",
            "\n",
            "** Example 3 **\n",
            "2 1 7\n",
            "two hundred and seventeen\n",
            "\n",
            "** Example 4 **\n",
            "5 8 1\n",
            "five hundred and eighty one\n",
            "\n",
            "** Example 5 **\n",
            "7 3 1\n",
            "seven hundred and thirty one\n",
            "\n",
            "** Example 6 **\n",
            "6 1 8\n",
            "six hundred and eighteen\n",
            "\n",
            "** Example 7 **\n",
            "6 8 2\n",
            "six hundred and eighty two\n",
            "\n",
            "** Example 8 **\n",
            "3 1 9\n",
            "three hundred and nineteen\n",
            "\n",
            "** Example 9 **\n",
            "5 4 8\n",
            "five hundred and forty eight\n",
            "\n",
            "** Example 10 **\n",
            "8 3 7\n",
            "eight hundred and thirty seven\n",
            "\n",
            "** Example 11 **\n",
            "3 8 5\n",
            "three hundred and eighty five\n",
            "\n",
            "** Example 12 **\n",
            "5 3 9\n",
            "five hundred and thirty nine\n",
            "\n",
            "** Example 13 **\n",
            "5 4 8\n",
            "five hundred and forty eight\n",
            "\n",
            "** Example 14 **\n",
            "8 1\n",
            "eighteen\n",
            "\n",
            "** Example 15 **\n",
            "5 5 8\n",
            "five hundred and fifty eight\n",
            "\n",
            "** Example 16 **\n",
            "9 3 7\n",
            "nine hundred and thirty seven\n",
            "\n",
            "** Example 17 **\n",
            "1 8 9\n",
            "one hundred and eighty nine\n",
            "\n",
            "** Example 18 **\n",
            "4 4 4\n",
            "four hundred and forty four\n",
            "\n",
            "** Example 19 **\n",
            "6 6 3\n",
            "six hundred and sixty three\n",
            "\n"
          ]
        }
      ],
      "source": [
        "\n",
        "def decode_sequences(input_sentences):\n",
        "    batch_size = tf.shape(input_sentences)[0]\n",
        "\n",
        "    # Tokenize the encoder input.\n",
        "    encoder_input_tokens = eng_tokenizer(input_sentences).to_tensor(\n",
        "        shape=(None, MAX_SEQUENCE_LENGTH)\n",
        "    )\n",
        "\n",
        "    # Define a function that outputs the next token's probability given the\n",
        "    # input sequence.\n",
        "    def next(prompt, cache, index):\n",
        "        logits = transformer([encoder_input_tokens, prompt])[:, index - 1, :]\n",
        "        # Ignore hidden states for now; only needed for contrastive search.\n",
        "        hidden_states = None\n",
        "        return logits, hidden_states, cache\n",
        "\n",
        "    # Build a prompt of length 40 with a start token and padding tokens.\n",
        "    length = 40\n",
        "    start = tf.fill((batch_size, 1), spa_tokenizer.token_to_id(\"[START]\"))\n",
        "    pad = tf.fill((batch_size, length - 1), spa_tokenizer.token_to_id(\"[PAD]\"))\n",
        "    prompt = tf.concat((start, pad), axis=-1)\n",
        "\n",
        "    generated_tokens = keras_nlp.samplers.GreedySampler()(\n",
        "        next,\n",
        "        prompt,\n",
        "        end_token_id=spa_tokenizer.token_to_id(\"[END]\"),\n",
        "        index=1,  # Start sampling after start token.\n",
        "    )\n",
        "    generated_sentences = spa_tokenizer.detokenize(generated_tokens)\n",
        "    return generated_sentences\n",
        "\n",
        "\n",
        "test_eng_texts = [pair[0] for pair in test_pairs]\n",
        "for i in range(20):\n",
        "    input_sentence = random.choice(test_eng_texts)\n",
        "    translated = decode_sequences(tf.constant([input_sentence]))\n",
        "    translated = translated.numpy()[0].decode(\"utf-8\")\n",
        "    translated = (\n",
        "        translated.replace(\"[PAD]\", \"\")\n",
        "        .replace(\"[START]\", \"\")\n",
        "        .replace(\"[END]\", \"\")\n",
        "        .strip()\n",
        "    )\n",
        "    print(f\"** Example {i} **\")\n",
        "    print(input_sentence)\n",
        "    print(translated)\n",
        "    print()"
      ]
    },
    {
      "cell_type": "markdown",
      "metadata": {
        "id": "4gpfgMjyBBP-"
      },
      "source": [
        "## Evaluating our model (quantitative analysis)\n",
        "\n",
        "There are many metrics which are used for text generation tasks. Here, to\n",
        "evaluate translations generated by our model, let's compute the ROUGE-1 and\n",
        "ROUGE-2 scores. Essentially, ROUGE-N is a score based on the number of common\n",
        "n-grams between the reference text and the generated text. ROUGE-1 and ROUGE-2\n",
        "use the number of common unigrams and bigrams, respectively.\n",
        "\n",
        "We will calculate the score over 30 test samples (since decoding is an\n",
        "expensive process)."
      ]
    },
    {
      "cell_type": "code",
      "execution_count": 21,
      "metadata": {
        "id": "fIHf9ZavBBP-",
        "colab": {
          "base_uri": "https://localhost:8080/"
        },
        "outputId": "76f64185-9518-45b6-f1a6-730c66b0e8fa"
      },
      "outputs": [
        {
          "output_type": "stream",
          "name": "stdout",
          "text": [
            "ROUGE-1 Score:  {'precision': <tf.Tensor: shape=(), dtype=float32, numpy=1.0>, 'recall': <tf.Tensor: shape=(), dtype=float32, numpy=1.0>, 'f1_score': <tf.Tensor: shape=(), dtype=float32, numpy=1.0>}\n",
            "ROUGE-2 Score:  {'precision': <tf.Tensor: shape=(), dtype=float32, numpy=0.96666664>, 'recall': <tf.Tensor: shape=(), dtype=float32, numpy=0.96666664>, 'f1_score': <tf.Tensor: shape=(), dtype=float32, numpy=0.96666664>}\n"
          ]
        }
      ],
      "source": [
        "rouge_1 = keras_nlp.metrics.RougeN(order=1)\n",
        "rouge_2 = keras_nlp.metrics.RougeN(order=2)\n",
        "\n",
        "for test_pair in test_pairs[:30]:\n",
        "    input_sentence = test_pair[0]\n",
        "    reference_sentence = test_pair[1]\n",
        "\n",
        "    translated_sentence = decode_sequences(tf.constant([input_sentence]))\n",
        "    translated_sentence = translated_sentence.numpy()[0].decode(\"utf-8\")\n",
        "    translated_sentence = (\n",
        "        translated_sentence.replace(\"[PAD]\", \"\")\n",
        "        .replace(\"[START]\", \"\")\n",
        "        .replace(\"[END]\", \"\")\n",
        "        .strip()\n",
        "    )\n",
        "\n",
        "    rouge_1(reference_sentence, translated_sentence)\n",
        "    rouge_2(reference_sentence, translated_sentence)\n",
        "\n",
        "print(\"ROUGE-1 Score: \", rouge_1.result())\n",
        "print(\"ROUGE-2 Score: \", rouge_2.result())"
      ]
    },
    {
      "cell_type": "markdown",
      "metadata": {
        "id": "TVH27MgsBBP_"
      },
      "source": [
        "After 10 epochs, the scores are as follows:\n",
        "\n",
        "|               | **ROUGE-1** | **ROUGE-2** |\n",
        "|:-------------:|:-----------:|:-----------:|\n",
        "| **Precision** |    0.568    |    0.374    |\n",
        "|   **Recall**  |    0.615    |    0.394    |\n",
        "|  **F1 Score** |    0.579    |    0.381    |"
      ]
    }
  ],
  "metadata": {
    "accelerator": "GPU",
    "colab": {
      "provenance": [],
      "toc_visible": true
    },
    "kernelspec": {
      "display_name": "Python 3",
      "language": "python",
      "name": "python3"
    },
    "language_info": {
      "codemirror_mode": {
        "name": "ipython",
        "version": 3
      },
      "file_extension": ".py",
      "mimetype": "text/x-python",
      "name": "python",
      "nbconvert_exporter": "python",
      "pygments_lexer": "ipython3",
      "version": "3.7.0"
    }
  },
  "nbformat": 4,
  "nbformat_minor": 0
}